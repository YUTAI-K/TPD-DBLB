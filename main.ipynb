{
 "cells": [
  {
   "cell_type": "markdown",
   "id": "35e8d6d84c195440",
   "metadata": {},
   "source": [
    "# Mixed-integer programming model to solve the two-sided partial destructive disassembly line balancing problem\n",
    "\n",
    "The main concept and model are derived from the paper: *\"Exploring Engineering Applications of Two-Sided Partial Destructive Disassembly Line Balancing Problem under Electrical Limiting and Time-of-Use Pricing\"* by Lei Guo, Zeqiang Zhang, Yu Zhang, Yan Li, and Haolin Song. For a detailed description of the problem, including its parameters and constraints, please refer to their paper, particularly Section 4.2.\n",
    "\n",
    "To enhance applicability, some modifications have been introduced to the model. These include the addition of a new set of constraints, which are detailed in the **\"Constraints Extra\"** section.\n",
    "\n",
    " "
   ]
  },
  {
   "cell_type": "code",
   "id": "d670d1073eccd224",
   "metadata": {
    "ExecuteTime": {
     "end_time": "2025-01-12T14:11:58.566088Z",
     "start_time": "2025-01-12T14:11:53.328727Z"
    }
   },
   "source": [
    "!pip install gurobipy\n",
    "!pip install numpy\n",
    "!pip install matplotlib\n",
    "!pip install networkx"
   ],
   "outputs": [
    {
     "name": "stdout",
     "output_type": "stream",
     "text": [
      "Requirement already satisfied: gurobipy in c:\\users\\keyut\\pycharmprojects\\reproducingpaper\\.venv\\lib\\site-packages (12.0.0)\n",
      "Requirement already satisfied: numpy in c:\\users\\keyut\\pycharmprojects\\reproducingpaper\\.venv\\lib\\site-packages (2.2.1)\n",
      "Requirement already satisfied: matplotlib in c:\\users\\keyut\\pycharmprojects\\reproducingpaper\\.venv\\lib\\site-packages (3.10.0)\n",
      "Requirement already satisfied: contourpy>=1.0.1 in c:\\users\\keyut\\pycharmprojects\\reproducingpaper\\.venv\\lib\\site-packages (from matplotlib) (1.3.1)\n",
      "Requirement already satisfied: cycler>=0.10 in c:\\users\\keyut\\pycharmprojects\\reproducingpaper\\.venv\\lib\\site-packages (from matplotlib) (0.12.1)\n",
      "Requirement already satisfied: fonttools>=4.22.0 in c:\\users\\keyut\\pycharmprojects\\reproducingpaper\\.venv\\lib\\site-packages (from matplotlib) (4.55.3)\n",
      "Requirement already satisfied: kiwisolver>=1.3.1 in c:\\users\\keyut\\pycharmprojects\\reproducingpaper\\.venv\\lib\\site-packages (from matplotlib) (1.4.8)\n",
      "Requirement already satisfied: numpy>=1.23 in c:\\users\\keyut\\pycharmprojects\\reproducingpaper\\.venv\\lib\\site-packages (from matplotlib) (2.2.1)\n",
      "Requirement already satisfied: packaging>=20.0 in c:\\users\\keyut\\pycharmprojects\\reproducingpaper\\.venv\\lib\\site-packages (from matplotlib) (24.2)\n",
      "Requirement already satisfied: pillow>=8 in c:\\users\\keyut\\pycharmprojects\\reproducingpaper\\.venv\\lib\\site-packages (from matplotlib) (11.1.0)\n",
      "Requirement already satisfied: pyparsing>=2.3.1 in c:\\users\\keyut\\pycharmprojects\\reproducingpaper\\.venv\\lib\\site-packages (from matplotlib) (3.2.1)\n",
      "Requirement already satisfied: python-dateutil>=2.7 in c:\\users\\keyut\\pycharmprojects\\reproducingpaper\\.venv\\lib\\site-packages (from matplotlib) (2.9.0.post0)\n",
      "Requirement already satisfied: six>=1.5 in c:\\users\\keyut\\pycharmprojects\\reproducingpaper\\.venv\\lib\\site-packages (from python-dateutil>=2.7->matplotlib) (1.17.0)\n",
      "Requirement already satisfied: networkx in c:\\users\\keyut\\pycharmprojects\\reproducingpaper\\.venv\\lib\\site-packages (3.4.2)\n"
     ]
    }
   ],
   "execution_count": 1
  },
  {
   "cell_type": "code",
   "id": "a2b6646fd11b5d1e",
   "metadata": {
    "ExecuteTime": {
     "end_time": "2025-01-12T14:11:58.971965Z",
     "start_time": "2025-01-12T14:11:58.567800Z"
    }
   },
   "source": [
    "from gurobipy import Model, GurobiError, GRB, LinExpr, Column, quicksum\n",
    "import networkx as nx\n",
    "import matplotlib.pyplot as plt\n",
    "from collections import deque"
   ],
   "outputs": [],
   "execution_count": 2
  },
  {
   "cell_type": "markdown",
   "id": "e1b244dc394b32d0",
   "metadata": {},
   "source": [
    "## Parameter Generation\n",
    "\n",
    "First, I need to generate the parameters for the model. You should only run one of the parameter generation blocks below; running both will result in overwriting.\n",
    "\n",
    "The first block replicates the setup in the paper, while the second block allows for random parameter generation so you can experiment with the model.\n",
    "\n"
   ]
  },
  {
   "cell_type": "markdown",
   "id": "473f47d6",
   "metadata": {},
   "source": [
    "### Replicating the Paper\n",
    "\n",
    "In this block, I strictly follow the setup, notations, and order presented in Table 2 of the aforementioned paper. You can modify the parameters as needed, such as adding more tasks or stations. However, you must manually adjust the matrix **A** to correctly reflect the dependency of the tasks (currently set to match Figure 4 in the paper), as well as vectors **h** and **e**, which should have a length of **n**. \n",
    "\n",
    "The number of sides for the disassembly line is fixed and hard-coded to 2.\n",
    "\n",
    "*Note*: One error in the paper is that they presented $w_i$ as a parameter, but it should instead be treated as a variable."
   ]
  },
  {
   "cell_type": "code",
   "id": "7a936adbc0c5574a",
   "metadata": {
    "ExecuteTime": {
     "end_time": "2025-01-12T14:11:58.990837Z",
     "start_time": "2025-01-12T14:11:58.972970Z"
    }
   },
   "source": [
    "import numpy as np\n",
    "np.random.seed(123)\n",
    "n = 10# number of tasks\n",
    "m = 10 # number of possible mated station, set it to equal the number of tasks\n",
    "e = np.array([i/n for i in range(n)])#vector of length n recording destructive disassembly feasibility value for tasks\n",
    "# This will be something like, a \n",
    "CT = 60 # maximum unit allowed for cycle time\n",
    "print(\"Destructive disassembly feasibility values are: \", e)\n",
    "e_max = 0.7 # Destructive disassembly feasibility threshold. e[i] > e_max implies that task i needs to be destructive \n",
    "t1 = np.round(np.random.uniform(10, 40, n), 0) # Vector of time cost for tasks when destructive\n",
    "print(\"Vector of time cost for tasks when destructive: \", t1)\n",
    "t0 = np.round(np.random.uniform(10, 40, n), 0) # Vector of time cost for tasks when non-destructive\n",
    "print(\"Vector of time cost for tasks when non-destructive: \", t0)\n",
    "G1 = np.round(np.random.uniform(50, 75, n), 0) # vector of Disassembly benefits when destructive is used\n",
    "print(\"Vector of Disassembly benefits when destructive is used: \", G1)\n",
    "G0 = np.round(np.random.uniform(60, 85, n), 0) # vector of Disassembly benefits when non-destructive is used\n",
    "print(\"Vector of Disassembly benefits when non-destructive is used: \", G0)\n",
    "E1 = np.round(np.random.uniform(1, 30, (n, 1)), 0) + np.array([0, 10, 20]) # E1[i,s]: Electricity cost per unit of time to process the job when task i uses destructive disassembly in the sth scenario(off, mid, or on peak).\n",
    "print(\"E1[i,s]: Electricity cost per unit of time when destructive: \\n\", E1)\n",
    "E0 = np.round(np.random.uniform(1, 30, (n, 1)), 0) + np.array([0, 10, 20]) # E0[i,s]: Electricity cost per unit of time to process the job when task i uses non-destructive in the sth scenario.\n",
    "print(\"E0[i,s]: Electricity cost per unit of time when non destructive: \\n\", E0)\n",
    "E = np.array([i+1 for i in range(m)]) # E[k] is the fixed cost of station k\n",
    "P1 = np.array([E1[i,0]*1.2 for i in range(n)]) # P1[i] is the power cost of task i per unit of time when destructive\n",
    "print(\"P1[i] is the power cost of task i per unit of time when destructive: \", P1)\n",
    "P0 = np.array([E0[i,0]*1.2 for i in range(n)]) # P0[i] is the power cost of task i per unit of time when non-destructive\n",
    "print(\"P0[i] is the power cost of task i per unit of time when non-destructive: \", P0)\n",
    "p_f = 5 # Fix time unit power comsumption per station\n",
    "p_h = 5 # Fix time unit power comsumption by Hazardous task per station\n",
    "A = np.zeros((n, n)) # A relation ship matrix\n",
    "A[0, 1] = 1; A[0, 2] = 1; A[3,7] = 1; A[4,6] = 1; A[5,6] = 1; A[6,7] = 1; A[7,1] = 1; A[7,2] =1; A[8, 1] = 1; A[8,2] = 1; A[9,1] = 1; A[9,2]= 1\n",
    "print(\"Matrix A: \\n\", A)\n",
    "h = np.array([1,0,0,1,0,0,0,0,0,0])# h[i] =1 iff task i is a Hazardous task\n",
    "print(\"Matrix h: \\n\", h)\n",
    "d = np.array([0,1,0,1,0,0,0,0,0,0])# d[i] =1 iff task i is a demand task\n",
    "print(\"Matrix d: \\n\", d)\n",
    "M = 1000 # This is just a huge number used to write constraints. Change accordingly based on the scale of your parameters and variables\n",
    "# w_i should be variables, the paper is wrong."
   ],
   "outputs": [
    {
     "name": "stdout",
     "output_type": "stream",
     "text": [
      "Destructive disassembly feasibility values are:  [0.  0.1 0.2 0.3 0.4 0.5 0.6 0.7 0.8 0.9]\n",
      "Vector of time cost for tasks when destructive:  [31. 19. 17. 27. 32. 23. 39. 31. 24. 22.]\n",
      "Vector of time cost for tasks when non-destructive:  [20. 32. 23. 12. 22. 32. 15. 15. 26. 26.]\n",
      "Vector of Disassembly benefits when destructive is used:  [66. 71. 68. 65. 68. 58. 59. 56. 57. 66.]\n",
      "Vector of Disassembly benefits when non-destructive is used:  [62. 71. 71. 72. 71. 68. 71. 82. 84. 73.]\n",
      "E1[i,s]: Electricity cost per unit of time when destructive: \n",
      " [[19. 29. 39.]\n",
      " [ 4. 14. 24.]\n",
      " [10. 20. 30.]\n",
      " [13. 23. 33.]\n",
      " [26. 36. 46.]\n",
      " [ 8. 18. 28.]\n",
      " [15. 25. 35.]\n",
      " [30. 40. 50.]\n",
      " [16. 26. 36.]\n",
      " [19. 29. 39.]]\n",
      "E0[i,s]: Electricity cost per unit of time when non destructive: \n",
      " [[ 4. 14. 24.]\n",
      " [25. 35. 45.]\n",
      " [18. 28. 38.]\n",
      " [17. 27. 37.]\n",
      " [11. 21. 31.]\n",
      " [10. 20. 30.]\n",
      " [13. 23. 33.]\n",
      " [21. 31. 41.]\n",
      " [26. 36. 46.]\n",
      " [16. 26. 36.]]\n",
      "P1[i] is the power cost of task i per unit of time when destructive:  [22.8  4.8 12.  15.6 31.2  9.6 18.  36.  19.2 22.8]\n",
      "P0[i] is the power cost of task i per unit of time when non-destructive:  [ 4.8 30.  21.6 20.4 13.2 12.  15.6 25.2 31.2 19.2]\n",
      "Matrix A: \n",
      " [[0. 1. 1. 0. 0. 0. 0. 0. 0. 0.]\n",
      " [0. 0. 0. 0. 0. 0. 0. 0. 0. 0.]\n",
      " [0. 0. 0. 0. 0. 0. 0. 0. 0. 0.]\n",
      " [0. 0. 0. 0. 0. 0. 0. 1. 0. 0.]\n",
      " [0. 0. 0. 0. 0. 0. 1. 0. 0. 0.]\n",
      " [0. 0. 0. 0. 0. 0. 1. 0. 0. 0.]\n",
      " [0. 0. 0. 0. 0. 0. 0. 1. 0. 0.]\n",
      " [0. 1. 1. 0. 0. 0. 0. 0. 0. 0.]\n",
      " [0. 1. 1. 0. 0. 0. 0. 0. 0. 0.]\n",
      " [0. 1. 1. 0. 0. 0. 0. 0. 0. 0.]]\n",
      "Matrix h: \n",
      " [1 0 0 1 0 0 0 0 0 0]\n",
      "Matrix d: \n",
      " [0 1 0 1 0 0 0 0 0 0]\n"
     ]
    }
   ],
   "execution_count": 3
  },
  {
   "cell_type": "markdown",
   "id": "1819f1ad53adc8b1",
   "metadata": {},
   "source": [
    "Task relationship graph, same as figure 4 in the paper, is drawn bellow:"
   ]
  },
  {
   "cell_type": "code",
   "id": "282c4458ce66680e",
   "metadata": {
    "ExecuteTime": {
     "end_time": "2025-01-12T14:11:59.066402Z",
     "start_time": "2025-01-12T14:11:58.991932Z"
    }
   },
   "source": [
    "from Utilities import draw_task_precedence_graph\n",
    "draw_task_precedence_graph()"
   ],
   "outputs": [
    {
     "data": {
      "text/plain": [
       "<Figure size 600x400 with 1 Axes>"
      ],
      "image/png": "[encoded data removed]"
     },
     "metadata": {},
     "output_type": "display_data"
    }
   ],
   "execution_count": 4
  },
  {
   "cell_type": "markdown",
   "id": "9b0e01ca9d73aa4d",
   "metadata": {},
   "source": [
    "### Generate random cases\n",
    "\n",
    "If instead, you wish to generate random cases, then, run this code:"
   ]
  },
  {
   "cell_type": "code",
   "id": "96eba0f381732fb",
   "metadata": {
    "ExecuteTime": {
     "end_time": "2025-01-12T14:11:59.070869Z",
     "start_time": "2025-01-12T14:11:59.067921Z"
    }
   },
   "source": [
    "from Utilities import generate_random_dag\n",
    "import numpy as np\n",
    "np.random.seed(123)"
   ],
   "outputs": [],
   "execution_count": 5
  },
  {
   "cell_type": "code",
   "id": "5b8af0fbfa489ee7",
   "metadata": {
    "ExecuteTime": {
     "end_time": "2025-01-12T14:11:59.085584Z",
     "start_time": "2025-01-12T14:11:59.071873Z"
    }
   },
   "source": [
    "\n",
    "###################################\n",
    "#### Parameters you can change ####\n",
    "###################################\n",
    "n = 18# number of tasks\n",
    "m = n # number of possible mated station, set it to equal the number of tasks\n",
    "e = np.array([i/n for i in range(n)])#vector of length n recording destructive disassembly feasibility value for tasks\n",
    "# This will be something like, a \n",
    "CT = 90 # maximum unit allowed for cycle time\n",
    "print(\"Destructive disassembly feasibility values are: \", e)\n",
    "e_max = 0.7 # Destructive disassembly feasibility threshold. e[i] > e_max implies that task i needs to be destructive \n",
    "variance = CT**2 / 100 # For randomness\n",
    "###########################\n",
    "#### Random generation ####\n",
    "###########################\n",
    "\n",
    "t1 = np.round(np.random.normal(CT / 3, np.sqrt(variance), 2 * n)[(lambda x: (x >= 0.05 * CT) & (x <= 0.7 * CT))(np.random.normal(CT / 2, np.sqrt(variance), 2 * n))][:n], 1) # Vector of time cost for tasks when destructive\n",
    "print(\"Vector of time cost for tasks when destructive: \", t1)\n",
    "t0 = np.round(np.random.normal(CT / 3, np.sqrt(variance), 2 * n)[(lambda x: (x >= 0.05 * CT) & (x <= 0.7 * CT))(np.random.normal(CT / 2, np.sqrt(variance), 2 * n))][:n], 1) # Vector of time cost for tasks when non-destructive\n",
    "print(\"Vector of time cost for tasks when non-destructive: \", t0)\n",
    "G1 = np.round(np.random.normal((CT*1.6) / 2, np.sqrt(variance), 2 * n)[(lambda x: (x >= 0.2 * (CT*1.6)) & (x <= 0.8 * (CT*1.6)))(np.random.normal((CT*1.6) / 2, np.sqrt(variance), 2 * n))][:n], 1) # vector of Disassembly benefits when destructive is used\n",
    "print(\"Vector of Disassembly benefits when destructive is used: \", G1)\n",
    "G0 = np.round(np.random.normal((CT*3) / 2, np.sqrt(variance), 2 * n)[(lambda x: (x >= 0.2 * (CT*3)) & (x <= 0.8 * (CT*3)))(np.random.normal((CT*3) / 2, np.sqrt(variance), 2 * n))][:n], 1) # vector of Disassembly benefits when non-destructive is used\n",
    "print(\"Vector of Disassembly benefits when non-destructive is used: \", G0)\n",
    "E1 = np.round(np.random.uniform(1, 30, (n, 1)), 0) + np.array([0, 10, 20]) # E1[i,s]: Electricity cost per unit of time to process the job when task i uses destructive disassembly in the sth scenario(off, mid, or on peak).\n",
    "print(\"E1[i,s]: Electricity cost per unit of time when destructive: \\n\", E1)\n",
    "E0 = np.round(np.random.uniform(1, 30, (n, 1)), 0) + np.array([0, 10, 20]) # E0[i,s]: Electricity cost per unit of time to process the job when task i uses non-destructive in the sth scenario.\n",
    "print(\"E0[i,s]: Electricity cost per unit of time when non destructive: \\n\", E0)\n",
    "E = np.array([(i+1)*CT/10 for i in range(m)]) # E[k] is the fixed cost of station k\n",
    "P1 = np.array([E1[i,0]*1.2 + CT/5 for i in range(n)]) # P1[i] is the power cost of task i per unit of time when destructive\n",
    "print(\"P1[i] is the power cost of task i per unit of time when destructive: \", P1)\n",
    "P0 = np.array([E0[i,0]*1.2  + CT/5 for i in range(n)]) # P0[i] is the power cost of task i per unit of time when non-destructive\n",
    "print(\"P0[i] is the power cost of task i per unit of time when non-destructive: \", P0)\n",
    "p_f = 8 # Fix time unit power comsumption per station\n",
    "p_h = 10 # Fix time unit power comsumption by Hazardous task per station\n",
    "A = generate_random_dag(n)\n",
    "A = nx.to_numpy_array(A, nodelist=sorted(A.nodes()), dtype=int)\n",
    "print(\"Matrix A: \\n\", A)\n",
    "h = np.zeros(n)# h[i] =1 iff task i is a Hazardous task\n",
    "print(\"Matrix h: \\n\", h)\n",
    "d = np.zeros(n)# d[i] =1 iff task i is a demand task\n",
    "print(\"Matrix d: \\n\", d)\n",
    "M = CT*m+1 # This is just a huge number used to write constraints. Change accordingly based on the scale of your parameters and variables\n",
    "# w_i should be variables, the paper is wrong.\n"
   ],
   "outputs": [
    {
     "name": "stdout",
     "output_type": "stream",
     "text": [
      "Destructive disassembly feasibility values are:  [0.         0.05555556 0.11111111 0.16666667 0.22222222 0.27777778\n",
      " 0.33333333 0.38888889 0.44444444 0.5        0.55555556 0.61111111\n",
      " 0.66666667 0.72222222 0.77777778 0.83333333 0.88888889 0.94444444]\n",
      "Vector of time cost for tasks when destructive:  [20.2 39.  32.5 16.4 24.8 44.9  8.2 26.1 41.4 22.2 29.1 43.4 26.  26.1\n",
      " 49.9 49.7 39.  33.5]\n",
      "Vector of time cost for tasks when non-destructive:  [40.5 20.1 10.9 39.4 26.4 28.9 22.5 15.5 41.3 23.8 44.9 37.3 27.2 20.2\n",
      " 23.4 19.1 48.8 31.5]\n",
      "Vector of Disassembly benefits when destructive is used:  [77.  70.1 76.1 85.9 69.8 73.3 74.3 74.6 59.3 55.1 62.8 73.5 77.  67.2\n",
      " 84.4 70.7 72.2 70.3]\n",
      "Vector of Disassembly benefits when non-destructive is used:  [143.1 138.3 128.1 135.  123.7 130.  132.8 131.7 143.6 122.2 127.2 122.6\n",
      " 123.9 136.1 120.6 141.8 132.8 135.6]\n",
      "E1[i,s]: Electricity cost per unit of time when destructive: \n",
      " [[17. 27. 37.]\n",
      " [ 7. 17. 27.]\n",
      " [21. 31. 41.]\n",
      " [ 7. 17. 27.]\n",
      " [ 9. 19. 29.]\n",
      " [23. 33. 43.]\n",
      " [17. 27. 37.]\n",
      " [11. 21. 31.]\n",
      " [17. 27. 37.]\n",
      " [21. 31. 41.]\n",
      " [27. 37. 47.]\n",
      " [18. 28. 38.]\n",
      " [ 8. 18. 28.]\n",
      " [23. 33. 43.]\n",
      " [24. 34. 44.]\n",
      " [ 7. 17. 27.]\n",
      " [25. 35. 45.]\n",
      " [14. 24. 34.]]\n",
      "E0[i,s]: Electricity cost per unit of time when non destructive: \n",
      " [[24. 34. 44.]\n",
      " [ 8. 18. 28.]\n",
      " [11. 21. 31.]\n",
      " [29. 39. 49.]\n",
      " [20. 30. 40.]\n",
      " [23. 33. 43.]\n",
      " [21. 31. 41.]\n",
      " [ 7. 17. 27.]\n",
      " [15. 25. 35.]\n",
      " [24. 34. 44.]\n",
      " [21. 31. 41.]\n",
      " [ 1. 11. 21.]\n",
      " [ 4. 14. 24.]\n",
      " [11. 21. 31.]\n",
      " [28. 38. 48.]\n",
      " [15. 25. 35.]\n",
      " [ 9. 19. 29.]\n",
      " [11. 21. 31.]]\n",
      "P1[i] is the power cost of task i per unit of time when destructive:  [38.4 26.4 43.2 26.4 28.8 45.6 38.4 31.2 38.4 43.2 50.4 39.6 27.6 45.6\n",
      " 46.8 26.4 48.  34.8]\n",
      "P0[i] is the power cost of task i per unit of time when non-destructive:  [46.8 27.6 31.2 52.8 42.  45.6 43.2 26.4 36.  46.8 43.2 19.2 22.8 31.2\n",
      " 51.6 36.  28.8 31.2]\n",
      "Matrix A: \n",
      " [[0 0 0 0 0 0 0 0 0 0 0 0 0 0 0 0 0 0]\n",
      " [0 0 0 0 0 0 0 0 0 0 0 0 0 0 0 0 0 1]\n",
      " [0 0 0 0 0 0 0 0 0 0 0 0 0 1 0 0 0 0]\n",
      " [0 0 0 0 0 0 0 0 0 0 0 0 0 0 0 0 0 0]\n",
      " [0 1 1 0 0 0 0 0 0 0 1 0 0 0 0 1 1 0]\n",
      " [0 0 0 0 0 0 0 0 0 0 0 0 0 0 0 0 0 0]\n",
      " [0 0 0 1 0 0 0 0 0 0 0 0 0 0 1 0 0 0]\n",
      " [0 0 0 0 0 0 0 0 0 0 0 0 0 0 0 0 0 0]\n",
      " [0 0 0 1 0 0 0 0 0 1 0 0 0 0 0 0 0 0]\n",
      " [1 0 0 0 0 0 0 1 0 0 0 1 0 0 0 0 0 0]\n",
      " [0 0 0 0 0 0 0 0 0 0 0 0 0 0 0 0 0 0]\n",
      " [0 0 0 0 0 0 0 0 0 0 0 0 0 0 0 0 0 0]\n",
      " [0 0 0 0 0 0 0 0 0 0 0 0 0 0 0 0 0 0]\n",
      " [0 0 0 0 0 0 0 0 0 0 0 0 0 0 0 0 0 0]\n",
      " [0 0 1 0 0 1 0 0 0 0 0 0 0 0 0 0 0 0]\n",
      " [0 0 0 0 0 0 1 0 1 0 0 0 0 0 1 0 0 0]\n",
      " [0 0 0 0 0 0 0 0 0 0 0 0 0 0 0 0 0 0]\n",
      " [0 0 0 0 0 0 0 0 0 0 0 0 1 0 0 0 0 0]]\n",
      "Matrix h: \n",
      " [0. 0. 0. 0. 0. 0. 0. 0. 0. 0. 0. 0. 0. 0. 0. 0. 0. 0.]\n",
      "Matrix d: \n",
      " [0. 0. 0. 0. 0. 0. 0. 0. 0. 0. 0. 0. 0. 0. 0. 0. 0. 0.]\n"
     ]
    }
   ],
   "execution_count": 6
  },
  {
   "cell_type": "markdown",
   "id": "5ff2e313ae820263",
   "metadata": {},
   "source": [
    "## Variable Initialization\n",
    "\n",
    "Now, we can begin adding variables. For variables with a superscript index, the superscript is placed at the end of the subscript indexes.\n",
    "\n"
   ]
  },
  {
   "cell_type": "code",
   "id": "739301fb24546c5",
   "metadata": {
    "ExecuteTime": {
     "end_time": "2025-01-12T14:11:59.161548Z",
     "start_time": "2025-01-12T14:11:59.085584Z"
    }
   },
   "source": [
    "# Initialize Gurobi model\n",
    "\n",
    "model: Model = Model()\n",
    "\n",
    "##############################################\n",
    "##############################################\n",
    "\n",
    "x = np.zeros((n, m, 2), dtype=object) # x[i,k, l] = 1 if task i is assigned to station k at side l\n",
    "for l in range(2):\n",
    "    for i in range(n):\n",
    "        for k in range(m):\n",
    "            x[i,k,l] = model.addVar(vtype=GRB.BINARY, name=f\"x_{i}{k}{l}\")\n",
    "            \n",
    "R = np.zeros((n,2), dtype=object) # R[i,r] = 1 if task i adapts disassemble method r, and r is 1 or 2, mapped to index 0 and 1\n",
    "for r in range(2):\n",
    "    for i in range(n):\n",
    "        R[i, r] = model.addVar(vtype=GRB.BINARY, name=f\"R_{i}{r}\")\n",
    "        \n",
    "S = np.zeros(m, dtype=object) # S[k] = 1 iff station k is open\n",
    "for k in range(m):\n",
    "    S[k] = model.addVar(vtype=GRB.BINARY, name=f\"S_{k}\")\n",
    "    \n",
    "z = np.zeros((n,n,m,2), dtype=object) #z[i,j,k,l] = 1 iff task i and j are assgined to station k at the side l and i occurs before j \n",
    "for i in range(n):\n",
    "    for j in range(n):\n",
    "        for k in range(m):\n",
    "            for l in range(2):\n",
    "                z[i,j,k,l] = model.addVar(vtype=GRB.BINARY, name=f\"z_{i}{j}{k}{l}\")\n",
    "                \n",
    "t = np.zeros(n, dtype=object) # t[i] is the Disassembly time of the task i\n",
    "for i in range(n):\n",
    "    t[i] = model.addVar(lb = 0,ub = GRB.INFINITY, vtype=GRB.CONTINUOUS, name=f\"t_{i}\")\n",
    "    \n",
    "G = np.zeros(n, dtype=object) # G[i] is the Disassembly benefits of the task i.\n",
    "for i in range(n):\n",
    "    G[i] = model.addVar(lb = 0,ub = GRB.INFINITY, vtype=GRB.CONTINUOUS, name=f\"G_{i}\")\n",
    "    \n",
    "E = np.zeros(n, dtype=object)# E[i] is the Electricity cost per unit of disassembly time of task i.\n",
    "for i in range(n):\n",
    "    E[i] = model.addVar(lb = 0,ub = GRB.INFINITY, vtype=GRB.CONTINUOUS, name=f\"E_{i}\")\n",
    "\n",
    "P = np.zeros(n, dtype=object) # P[i] is the Power consumption per unit of disassembly time of task i.\n",
    "for i in range(n):\n",
    "    P[i] = model.addVar(lb = 0,ub = GRB.INFINITY, vtype=GRB.CONTINUOUS, name=f\"P_{i}\") \n",
    "    \n",
    "w = np.zeros(n,dtype=object) # w[i]: Start time of task i\n",
    "for i in range(n):\n",
    "    w[i] = model.addVar(lb = 0,ub = GRB.INFINITY, vtype=GRB.CONTINUOUS, name=f\"w_{i}\")\n",
    "    \n",
    "    \n",
    "model.update()\n",
    "print(\"All variables added, I have now \", model.NumBinVars, \"binary variables and \", model.NumVars - model.NumBinVars, \"Continuous vars\" )"
   ],
   "outputs": [
    {
     "name": "stdout",
     "output_type": "stream",
     "text": [
      "Set parameter WLSAccessID\n",
      "Set parameter WLSSecret\n",
      "Set parameter LicenseID to value 2508371\n",
      "Academic license 2508371 - for non-commercial use only - registered to yu___@bse.eu\n",
      "All variables added, I have now  12366 binary variables and  90 Continuous vars\n"
     ]
    }
   ],
   "execution_count": 7
  },
  {
   "cell_type": "markdown",
   "id": "8378e78bca0c8acf",
   "metadata": {},
   "source": [
    "## Add Groups of Constraints\n",
    "\n",
    "Next, we add constraints. The constraints are organized into groups as presented in the paper, and I will follow the order and indexing provided there. In total, there are 6 groups of constraints.\n"
   ]
  },
  {
   "cell_type": "markdown",
   "id": "b426feebc38f2c24",
   "metadata": {},
   "source": [
    "### Constraint (1): The Assignment Constraints for the Disassembly Tasks\n",
    "\n",
    "The meaning of the subsets $D^1$ and $D^2$ is not explicitly clarified in the paper. However, we can deduce that if $i \\in D^2$, then task $i$ can only be assigned to the right side of the disassembly line. \n",
    "\n",
    "For simplicity, we define $D^1$ to include indices 0 to 4 and $D^2$ to include indices 5 to 9. This simplifies the implementation.\n",
    "\n"
   ]
  },
  {
   "cell_type": "code",
   "id": "55ed40ce1c862dd8",
   "metadata": {
    "ExecuteTime": {
     "end_time": "2025-01-12T14:11:59.171095Z",
     "start_time": "2025-01-12T14:11:59.162553Z"
    }
   },
   "source": [
    "# Eq. (6) means every task is assigned to station\n",
    "for i in range(n):\n",
    "    model.addConstr(quicksum(x[i,k,l]\n",
    "                             for k in range(m)\n",
    "                             for l in range(2)\n",
    "                             )==1, name=f\"Equation6{i}\")\n",
    "\n",
    "# Eq. (7)- Eq. (8) indicate that the task needs to satisfy the disassembly direction constraint.\n",
    "for i in range(5):\n",
    "    model.addConstr(quicksum(x[i,k,0]\n",
    "                             for k in range(m)\n",
    "                             )==1, name=f\"Equation7{i}\")\n",
    "for i in range(5, 10):\n",
    "    model.addConstr(quicksum(x[i,k,1]\n",
    "                             for k in range(m)\n",
    "                             )==1, name=f\"Equation8{i}\")\n",
    "\n",
    "# Print summary\n",
    "model.update()\n",
    "print(f\"Number of constraints: {model.getAttr('NumConstrs')}\")"
   ],
   "outputs": [
    {
     "name": "stdout",
     "output_type": "stream",
     "text": [
      "Number of constraints: 28\n"
     ]
    }
   ],
   "execution_count": 8
  },
  {
   "cell_type": "markdown",
   "id": "2ee0560e1fef5b4c",
   "metadata": {},
   "source": [
    "### Constraint (2): The Disassembly Mode Constraints\n",
    "\n",
    "- Equation 10 is not linear; I have transformed it into a linear form: $e_i R_i^1 < e_{max} \\quad \\forall i \\in N$\n",
    "- Equation 11 duplicates Equation 9, so it has been removed.\n",
    "- Equations 12-13 are also not linear and need to be transformed:\n",
    "  $$\n",
    "  (1 - R_i^2)M \\geq h_i + d_i \\quad \\forall i \\in N\n",
    "  $$\n"
   ]
  },
  {
   "cell_type": "code",
   "id": "dcd22974b81132d5",
   "metadata": {
    "ExecuteTime": {
     "end_time": "2025-01-12T14:11:59.178040Z",
     "start_time": "2025-01-12T14:11:59.172101Z"
    }
   },
   "source": [
    "# Eq. (9) denotes that only one disassembly mode can be selected for each task.\n",
    "for i in range(n):\n",
    "    model.addConstr(quicksum(R[i,r]\n",
    "                             for r in range(2)\n",
    "                             )==1, name=f\"Equation9{i}\")\n",
    "\n",
    "#Eq. (10) is transformed to linear version\n",
    "for i in range(n):\n",
    "    model.addConstr(e[i]*R[i,0] <= e_max, name=f\"Equation10{i}\")\n",
    "\n",
    "#Eq 12-13 are also transformed\n",
    "for i in range(n):\n",
    "    model.addConstr((1-R[i,1])*M >= h[i]+d[i], name=f\"Equation12_13{i}\")\n",
    "\n",
    "# Print summary\n",
    "model.update()\n",
    "print(f\"Number of constraints: {model.getAttr('NumConstrs')}\")"
   ],
   "outputs": [
    {
     "name": "stdout",
     "output_type": "stream",
     "text": [
      "Number of constraints: 82\n"
     ]
    }
   ],
   "execution_count": 9
  },
  {
   "cell_type": "markdown",
   "id": "b7c6057ce0390a74",
   "metadata": {},
   "source": [
    "### Constraint (3): Relationship Between Disassembly Time ($t_i$), Disassembly Benefit ($G_i$), Electricity Cost ($E_{is}$), and Disassembly Mode ($R_i$)\n",
    "\n",
    "This constraint establishes a relationship between the disassembly time, benefit, and electricity cost for each task based on the disassembly mode used.\n"
   ]
  },
  {
   "cell_type": "code",
   "id": "4b18e198773928b8",
   "metadata": {
    "ExecuteTime": {
     "end_time": "2025-01-12T14:11:59.185102Z",
     "start_time": "2025-01-12T14:11:59.179052Z"
    }
   },
   "source": [
    "for i in range(n):\n",
    "    model.addConstr(t[i] == R[i,0]*t0[i] + (1 - R[i,0])*t1[i], name=f\"Equation15{i}\")\n",
    "    model.addConstr(G[i] == R[i,0]*G0[i] + (1 - R[i,0])*G1[i], name=f\"Equation16{i}\")\n",
    "    model.addConstr(E[i] == R[i,0]*E0[i,2] + (1 - R[i,0])*E1[i,2], name=f\"Equation17{i}\")\n",
    "    model.addConstr(P[i] == R[i,0]*P0[i] + (1 - R[i,0])*P1[i], name=f\"Equation18{i}\")\n",
    "\n",
    "# Print summary\n",
    "model.update()\n",
    "print(f\"Number of constraints: {model.getAttr('NumConstrs')}\")"
   ],
   "outputs": [
    {
     "name": "stdout",
     "output_type": "stream",
     "text": [
      "Number of constraints: 154\n"
     ]
    }
   ],
   "execution_count": 10
  },
  {
   "cell_type": "markdown",
   "id": "32847d96232c62b9",
   "metadata": {},
   "source": [
    "### Constraint (4): Stations related constraints."
   ]
  },
  {
   "cell_type": "code",
   "id": "eaf454890eb53814",
   "metadata": {
    "ExecuteTime": {
     "end_time": "2025-01-12T14:11:59.192021Z",
     "start_time": "2025-01-12T14:11:59.186296Z"
    }
   },
   "source": [
    "# Eq. (19) describes the number of stations.\n",
    "model.addConstr(quicksum(S[k] for k in range(m))>=quicksum(t[i] for i in range(n))/(2*CT), name = \"Equation19\")\n",
    "\n",
    "#Eq. (20)- Eq. (21) shows that the station has to be open when assigning a disassembly task to the station,\n",
    "for k in range(m):\n",
    "    model.addConstr(S[k] <= quicksum(x[i,k,l]\n",
    "                                     for i in range(n)\n",
    "                                     for l in range(2)),\n",
    "                    name = f\"Equation20{k}\")\n",
    "    model.addConstr(n*S[k] >= quicksum(x[i,k,l]\n",
    "                                     for i in range(n)\n",
    "                                     for l in range(2)),\n",
    "                    name = f\"Equation21{k}\")\n",
    "# Eq. (22)  restricts the number of stations that must be turned on sequentially.\n",
    "for k in range(m-1):\n",
    "    model.addConstr(S[k]>=S[k+1], name=f\"Equation22{k}\")\n",
    "\n",
    "# Print summary\n",
    "model.update()\n",
    "print(f\"Number of constraints: {model.getAttr('NumConstrs')}\")\n",
    "    "
   ],
   "outputs": [
    {
     "name": "stdout",
     "output_type": "stream",
     "text": [
      "Number of constraints: 208\n"
     ]
    }
   ],
   "execution_count": 11
  },
  {
   "cell_type": "markdown",
   "id": "78c7de3a9f495267",
   "metadata": {},
   "source": [
    "### Constraint (5): Location-related constraints.\n"
   ]
  },
  {
   "cell_type": "code",
   "id": "203d30ffb8a49552",
   "metadata": {
    "ExecuteTime": {
     "end_time": "2025-01-12T14:11:59.311053Z",
     "start_time": "2025-01-12T14:11:59.192021Z"
    }
   },
   "source": [
    "#Eq. (23) indicates that if tasks i and j are assigned to the same station, they must occupy the same side of that station.\n",
    "for i in range(n):\n",
    "    for j in range(i+1,n):\n",
    "        for l in range(2):\n",
    "            for k in range(m):\n",
    "                model.addConstr(x[i,k,l] + x[j,k,l] <= 1+z[i,j,k,l] + z[j,i,k,l], name = f\"Equation23{i}{j}{l}{k}\")\n",
    "\n",
    "# Eq. (24) indicates that if tasks i and j are assigned to the same side of a station, they cannot be on different stations:\n",
    "for i in range(n):\n",
    "    for j in range(i+1,n):\n",
    "        for l in range(2):\n",
    "            for k in range(m):\n",
    "                model.addConstr((x[i,k,l] + x[j,k,l])/2 >= z[i,j,k,l] + z[j,i,k,l], name = f\"Equation24{i}{j}{l}{k}\")\n",
    "\n",
    "# Print summary\n",
    "model.update()\n",
    "print(f\"Number of constraints: {model.getAttr('NumConstrs')}\")\n"
   ],
   "outputs": [
    {
     "name": "stdout",
     "output_type": "stream",
     "text": [
      "Number of constraints: 11224\n"
     ]
    }
   ],
   "execution_count": 12
  },
  {
   "cell_type": "markdown",
   "id": "16d7e3b3cbf22b28",
   "metadata": {},
   "source": [
    "### Constraint (6): Time-Related Constraints\n",
    "\n",
    "- Equation (25), the non-negative constraint, is already accounted for when adding the variables.\n",
    "- Equation (29) contains an error in the paper; it should be $A_{ji} = 1$.\n"
   ]
  },
  {
   "cell_type": "code",
   "id": "a682ae3ef1c2b789",
   "metadata": {
    "ExecuteTime": {
     "end_time": "2025-01-12T14:11:59.482671Z",
     "start_time": "2025-01-12T14:11:59.312062Z"
    }
   },
   "source": [
    "# Eq. (26) indicates that Any task assigned to the back of another task must wait for the completion of the preceding task before starting its disassembly\n",
    "for i in range(n):\n",
    "    model.addConstr(\n",
    "        w[i] >= CT * (\n",
    "                quicksum(x[i, k, l]*(k+1) for k in range(m) for l in range(2)) - 1 # Number of previous stations times cycle time\n",
    "        ) + quicksum(\n",
    "            z[j,i, k, l] for k in range(m) for l in range(2) for j in range(n) if j != i # Summed time of tasks tthat comes before i in the same station\n",
    "        ),\n",
    "        name=f\"Equation26{i}\"\n",
    "    )\n",
    "    \n",
    "# Eq. (27) indicates that if two tasks i and j are assigned to the same station, and task j is ahead of task i, then task i must wait for task j to finish before starting;\n",
    "for i in range(n):\n",
    "    for j in range(n):\n",
    "        if i != j:\n",
    "            for l in range(2):\n",
    "                for k in range(m):\n",
    "                    model.addConstr(M*(1-z[j,i,k,l]) + w[i] >= w[j] + t[j], name = f\"Equation27{i}{j}{l}{k}\")\n",
    "                \n",
    "# Eq. (28) indicates that task must complete its disassembly within the beat time allocated for its station;\n",
    "# This one was initially causing problems, because the index starts from 0 in programming, but 1 in python. So, need to time k+1, not k\n",
    "for i in range(n):\n",
    "    model.addConstr(w[i] + t[i] <= quicksum(x[i,k,l]*(k+1) for k in range(m) for l in range(2)) * CT, name = f\"Equation28{i}\")\n",
    "    \n",
    "# Eq. (29) indicates that task i must wait for its immediately preceding task j to finish disassembly before it can start, even if they are on different sides of the same station.\n",
    "for i in range(n):\n",
    "    for j in range(n):\n",
    "        if A[j, i] == 1:   \n",
    "            model.addConstr(w[i] >= w[j] + t[j], name = f\"Equation29{i}{j}\")\n",
    "\n",
    "# Print summary\n",
    "model.update()\n",
    "print(f\"Number of constraints: {model.getAttr('NumConstrs')}\")"
   ],
   "outputs": [
    {
     "name": "stdout",
     "output_type": "stream",
     "text": [
      "Number of constraints: 22296\n"
     ]
    }
   ],
   "execution_count": 13
  },
  {
   "cell_type": "markdown",
   "id": "8ef08c62fd902f7",
   "metadata": {},
   "source": [
    "### Constraint Extra: Carry Time Constraints\n",
    "\n",
    "This is a constraint I introduced, assuming that between different workstations, goods must be carried from one station to another. Thus, a fixed time cost $T_{\\text{carry}}$ is required before workstation $k$ can begin operating. This can be expressed as follows:\n",
    "\n",
    "$$\n",
    "T_{\\text{carry}} \\geq \\min\\{w_i \\mid x_{i,k+1}^l = 1\\} - \\max\\{w_i + t_i \\mid x_{ik}^l = 1\\}, \\quad \\forall i \\in N, \\, k \\in M, \\, l \\in L\n",
    "$$\n",
    "\n",
    "This expression is clearly not linear, so we introduce two auxiliary variables, $w_k^{\\text{max}}$ and $w_k^{\\text{min}}$, which respectively record the maximum ending time and minimum starting time of station $k$. To enforce this, we impose the following group of constraints:\n",
    "\n",
    "$$\n",
    "w_k^{\\text{max}} \\geq (w_i + t_i) - \\big(1 - \\sum_{l \\in L} x_{ik}^l\\big)M, \\quad \\forall k \\in M, \\, i \\in N\n",
    "$$\n",
    "$$\n",
    "w_k^{\\text{min}} \\leq w_i + \\big(1 - \\sum_{l \\in L} x_{ik}^l\\big)M, \\quad \\forall k \\in M, \\, i \\in N\n",
    "$$\n",
    "$$\n",
    "T_{\\text{carry}} \\leq w_k^{\\text{min}} - w_{k-1}^{\\text{max}}, \\quad \\forall k \\in M \\setminus \\{1\\}\n",
    "$$\n",
    "\n",
    "Be absolutely careful that $\\max\\{t_i^0, t_i^1\\} < CT - T_{\\text{carry}}$ must hold for all $i \\in N$ when the problem is generated; otherwise, the problem may become infeasible from the first iteration!\n"
   ]
  },
  {
   "cell_type": "code",
   "id": "18099bff6815461b",
   "metadata": {
    "ExecuteTime": {
     "end_time": "2025-01-12T14:11:59.500804Z",
     "start_time": "2025-01-12T14:11:59.484677Z"
    }
   },
   "source": [
    "T_c = 10## the minimum carry time\n",
    "# Add the auxiliary variables:\n",
    "wmax = np.zeros(m, dtype=object)\n",
    "wmin = np.zeros(m, dtype=object)\n",
    "for k in range(m):\n",
    "    wmax[k] = model.addVar(lb=0,ub = GRB.INFINITY , vtype=GRB.CONTINUOUS, name=f\"wmax{k}\")\n",
    "    wmin[k] = model.addVar(lb=0,ub = GRB.INFINITY, vtype=GRB.CONTINUOUS, name=f\"wmin{k}\")\n",
    "\n",
    "for k in range(m):\n",
    "    for i in range(n):\n",
    "        model.addConstr(wmax[k] >= w[i]+t[i] - M*(1-quicksum(x[i,k,l] for l in range(2))), name=f\"Extra1{k}{i}\")\n",
    "        model.addConstr(wmin[k] <= w[i] + M*(1-quicksum(x[i,k,l] for l in range(2))), name=f\"Extra2{k}{i}\")\n",
    "\n",
    "for k in range(1,m):\n",
    "    model.addConstr(T_c <= wmin[k]-wmax[k-1], name=f\"Extra3{k}\")"
   ],
   "outputs": [],
   "execution_count": 14
  },
  {
   "cell_type": "markdown",
   "id": "d64cdfcf323fa85",
   "metadata": {},
   "source": [
    "## Optimization\n",
    "\n",
    "Now that all constraints have been added, we can proceed to optimize the model. In the paper, they considered 4 different objective values, making this a multi-objective programming problem. However, instead of computing the Pareto front—which is complex—let's test the model's results by optimizing each objective individually as a single objective function.\n"
   ]
  },
  {
   "cell_type": "markdown",
   "id": "2d660c8d",
   "metadata": {},
   "source": [
    "\n",
    "### Minimize the Number of Stations Opened\n",
    "\n",
    "First, consider $f_1$, which represents the number of stations opened."
   ]
  },
  {
   "cell_type": "code",
   "id": "6d4e590802b369fc",
   "metadata": {
    "ExecuteTime": {
     "end_time": "2025-01-12T14:12:01.591854Z",
     "start_time": "2025-01-12T14:11:59.501898Z"
    }
   },
   "source": [
    "f1 = quicksum(S[i] for i in range(n))\n",
    "model.setObjective(f1, GRB.MINIMIZE)\n",
    "model.optimize()"
   ],
   "outputs": [
    {
     "name": "stdout",
     "output_type": "stream",
     "text": [
      "Gurobi Optimizer version 12.0.0 build v12.0.0rc1 (win64 - Windows 11.0 (22631.2))\n",
      "\n",
      "CPU model: 12th Gen Intel(R) Core(TM) i7-12700H, instruction set [SSE2|AVX|AVX2]\n",
      "Thread count: 14 physical cores, 20 logical processors, using up to 20 threads\n",
      "\n",
      "Academic license 2508371 - for non-commercial use only - registered to yu___@bse.eu\n",
      "Optimize a model with 22961 rows, 12492 columns and 105947 nonzeros\n",
      "Model fingerprint: 0xb1f6c35e\n",
      "Variable types: 126 continuous, 12366 integer (12366 binary)\n",
      "Coefficient statistics:\n",
      "  Matrix range     [6e-03, 2e+03]\n",
      "  Objective range  [1e+00, 1e+00]\n",
      "  Bounds range     [1e+00, 1e+00]\n",
      "  RHS range        [7e-01, 2e+03]\n",
      "Presolve removed 14136 rows and 8155 columns\n",
      "Presolve time: 1.32s\n",
      "Presolved: 8825 rows, 4337 columns, 35893 nonzeros\n",
      "Variable types: 35 continuous, 4302 integer (4302 binary)\n",
      "\n",
      "Root relaxation: objective 3.000000e+00, 399 iterations, 0.02 seconds (0.04 work units)\n",
      "\n",
      "    Nodes    |    Current Node    |     Objective Bounds      |     Work\n",
      " Expl Unexpl |  Obj  Depth IntInf | Incumbent    BestBd   Gap | It/Node Time\n",
      "\n",
      "     0     0    3.00000    0   54          -    3.00000      -     -    1s\n",
      "H    0     0                       4.0000000    3.00000  25.0%     -    1s\n",
      "     0     0    3.00000    0   40    4.00000    3.00000  25.0%     -    1s\n",
      "     0     0    3.00000    0    4    4.00000    3.00000  25.0%     -    1s\n",
      "     0     0    3.00000    0   27    4.00000    3.00000  25.0%     -    1s\n",
      "     0     0    3.00000    0    6    4.00000    3.00000  25.0%     -    1s\n",
      "     0     0    3.00000    0    4    4.00000    3.00000  25.0%     -    1s\n",
      "     0     0    3.00000    0   12    4.00000    3.00000  25.0%     -    1s\n",
      "     0     0    3.00000    0   12    4.00000    3.00000  25.0%     -    1s\n",
      "     0     0    3.00000    0    4    4.00000    3.00000  25.0%     -    1s\n",
      "     0     2    3.00000    0    4    4.00000    3.00000  25.0%     -    1s\n",
      "\n",
      "Cutting planes:\n",
      "  Learned: 3\n",
      "  Gomory: 3\n",
      "  Cover: 162\n",
      "  Implied bound: 128\n",
      "  Clique: 6\n",
      "  MIR: 59\n",
      "  StrongCG: 1\n",
      "  GUB cover: 2\n",
      "  Inf proof: 7\n",
      "  RLT: 7\n",
      "  Relax-and-lift: 24\n",
      "\n",
      "Explored 1686 nodes (22886 simplex iterations) in 2.08 seconds (2.10 work units)\n",
      "Thread count was 20 (of 20 available processors)\n",
      "\n",
      "Solution count 1: 4 \n",
      "\n",
      "Optimal solution found (tolerance 1.00e-04)\n",
      "Best objective 4.000000000000e+00, best bound 4.000000000000e+00, gap 0.0000%\n"
     ]
    }
   ],
   "execution_count": 15
  },
  {
   "cell_type": "code",
   "id": "7ee504283a7c44f9",
   "metadata": {
    "ExecuteTime": {
     "end_time": "2025-01-12T14:12:01.683133Z",
     "start_time": "2025-01-12T14:12:01.592880Z"
    }
   },
   "source": [
    "from Utilities import plot_result\n",
    "plot_result(n,m,w,t,x,R,CT)"
   ],
   "outputs": [
    {
     "data": {
      "text/plain": [
       "<Figure size 1000x300 with 1 Axes>"
      ],
      "image/png": "[encoded data removed]"
     },
     "metadata": {},
     "output_type": "display_data"
    }
   ],
   "execution_count": 16
  },
  {
   "cell_type": "markdown",
   "id": "7da3c2c2f357cfd4",
   "metadata": {},
   "source": [
    "### Minimize Idle Time of the Stations\n",
    "\n",
    "Next, consider $f_2$, which represents the idle time of the stations. Minimizing this objective ensures a more efficient disassembly line.\n"
   ]
  },
  {
   "cell_type": "code",
   "id": "d786cf5bf272b3c1",
   "metadata": {
    "ExecuteTime": {
     "end_time": "2025-01-12T14:13:31.499309Z",
     "start_time": "2025-01-12T14:12:01.684180Z"
    }
   },
   "source": [
    "f2 = quicksum((2*S[k]*CT -quicksum(x[i,k,l]*t[i] for i in range(n) for l in range(2))) for k in range(m))\n",
    "model.setObjective(f2, GRB.MINIMIZE)\n",
    "model.optimize()"
   ],
   "outputs": [
    {
     "name": "stdout",
     "output_type": "stream",
     "text": [
      "Gurobi Optimizer version 12.0.0 build v12.0.0rc1 (win64 - Windows 11.0 (22631.2))\n",
      "\n",
      "CPU model: 12th Gen Intel(R) Core(TM) i7-12700H, instruction set [SSE2|AVX|AVX2]\n",
      "Thread count: 14 physical cores, 20 logical processors, using up to 20 threads\n",
      "\n",
      "Academic license 2508371 - for non-commercial use only - registered to yu___@bse.eu\n",
      "Optimize a model with 22961 rows, 12492 columns and 105947 nonzeros\n",
      "Model fingerprint: 0xe9663baa\n",
      "Model has 648 quadratic objective terms\n",
      "Variable types: 126 continuous, 12366 integer (12366 binary)\n",
      "Coefficient statistics:\n",
      "  Matrix range     [6e-03, 2e+03]\n",
      "  Objective range  [2e+02, 2e+02]\n",
      "  QObjective range [2e+00, 2e+00]\n",
      "  Bounds range     [1e+00, 1e+00]\n",
      "  RHS range        [7e-01, 2e+03]\n",
      "\n",
      "MIP start from previous solve produced solution with objective 220.9 (0.02s)\n",
      "Loaded MIP start from previous solve with objective 220.9\n",
      "\n",
      "Presolve removed 14037 rows and 8142 columns\n",
      "Presolve time: 1.42s\n",
      "Presolved: 9179 rows, 4605 columns, 39612 nonzeros\n",
      "Variable types: 35 continuous, 4570 integer (4570 binary)\n",
      "\n",
      "Root relaxation: objective -8.667497e+01, 1871 iterations, 0.06 seconds (0.14 work units)\n",
      "\n",
      "    Nodes    |    Current Node    |     Objective Bounds      |     Work\n",
      " Expl Unexpl |  Obj  Depth IntInf | Incumbent    BestBd   Gap | It/Node Time\n",
      "\n",
      "     0     0  -86.67497    0  186  220.90000  -86.67497   139%     -    1s\n",
      "H    0     0                     204.9000000  -86.67497   142%     -    1s\n",
      "H    0     0                     180.7000000  -86.67497   148%     -    1s\n",
      "H    0     0                     180.6000000  -86.67497   148%     -    1s\n",
      "H    0     0                     164.5000000  -86.67497   153%     -    1s\n",
      "H    0     0                     148.5000000  -86.67497   158%     -    1s\n",
      "H    0     0                     142.1000000  -86.67497   161%     -    1s\n",
      "H    0     0                     140.9000000  -86.67497   162%     -    1s\n",
      "H    0     0                     133.7000000  -86.67497   165%     -    1s\n",
      "H    0     0                     131.0000000  -86.67497   166%     -    1s\n",
      "H    0     0                     121.8000000  -86.67497   171%     -    1s\n",
      "H    0     0                     120.6000000  -86.67497   172%     -    1s\n",
      "     0     0   -8.09984    0  251  120.60000   -8.09984   107%     -    2s\n",
      "     0     0   -7.69417    0  264  120.60000   -7.69417   106%     -    2s\n",
      "     0     0   -0.00000    0   64  120.60000   -0.00000   100%     -    2s\n",
      "     0     0   -0.00000    0   91  120.60000   -0.00000   100%     -    3s\n",
      "     0     0   -0.00000    0   59  120.60000   -0.00000   100%     -    3s\n",
      "     0     0   -0.00000    0   53  120.60000   -0.00000   100%     -    3s\n",
      "     0     0   -0.00000    0  108  120.60000   -0.00000   100%     -    3s\n",
      "     0     0   -0.00000    0   78  120.60000   -0.00000   100%     -    3s\n",
      "     0     0   -0.00000    0   16  120.60000   -0.00000   100%     -    3s\n",
      "     0     0   -0.00000    0   16  120.60000   -0.00000   100%     -    3s\n",
      "     0     0   -0.00000    0   18  120.60000   -0.00000   100%     -    3s\n",
      "     0     0    0.00000    0   53  120.60000    0.00000   100%     -    3s\n",
      "     0     0    0.00000    0   29  120.60000    0.00000   100%     -    3s\n",
      "     0     0    0.00000    0   29  120.60000    0.00000   100%     -    3s\n",
      "     0     2    0.00000    0   29  120.60000    0.00000   100%     -    3s\n",
      "H   44    40                     116.9000000    0.00000   100%  67.9    3s\n",
      "H  102    91                     115.2000000    0.00000   100%  49.6    4s\n",
      "H  117   130                     113.6000000    0.00000   100%  49.2    4s\n",
      "H  120   130                     102.5000000    0.00000   100%  48.3    4s\n",
      "H  128   130                      99.3000000    0.00000   100%  49.0    4s\n",
      "  3652   667     cutoff   23        99.30000    0.00000   100%  24.9    5s\n",
      "  5972   977     cutoff   28        99.30000    0.00000   100%  31.3   10s\n",
      "H 6445   801                      96.0000000    0.00000   100%  33.6   10s\n",
      " 12006  1177   84.10000   26   10   96.00000    0.00000   100%  52.3   15s\n",
      " 24203  2272   69.80000   38   35   96.00000   69.80000  27.3%  38.6   20s\n",
      " 49121  4132   90.20000   40   64   96.00000   69.80000  27.3%  28.1   25s\n",
      " 51640  3825   69.80000   44   42   96.00000   69.80000  27.3%  31.1   30s\n",
      " 59529  1144   94.40000   42   32   96.00000   69.80000  27.3%  37.5   35s\n",
      " 72868  1555     cutoff   49        96.00000   69.80000  27.3%  36.3   45s\n",
      " 82522  2393 infeasible   60        96.00000   69.80000  27.3%  34.9   50s\n",
      " 94841  3559   73.37500   47   34   96.00000   69.80000  27.3%  33.4   55s\n",
      " 107362  4401   87.60000   70    5   96.00000   69.80000  27.3%  32.3   60s\n",
      " 120488  5245   78.15000   51   40   96.00000   69.80000  27.3%  31.4   65s\n",
      " 136037  6021   75.90000   56    8   96.00000   69.80000  27.3%  30.8   70s\n",
      " 151605  5878   70.28208   40   42   96.00000   69.94851  27.1%  29.9   75s\n",
      " 171687  3380 infeasible   67        96.00000   75.90000  20.9%  28.7   80s\n",
      " 187228   924   91.40000   48   24   96.00000   90.10000  6.15%  28.4   85s\n",
      "\n",
      "Cutting planes:\n",
      "  Learned: 4\n",
      "  Gomory: 22\n",
      "  Cover: 798\n",
      "  Implied bound: 149\n",
      "  Projected implied bound: 57\n",
      "  Dual implied bound: 1\n",
      "  Clique: 35\n",
      "  MIR: 112\n",
      "  Mixing: 5\n",
      "  StrongCG: 9\n",
      "  Flow cover: 240\n",
      "  GUB cover: 32\n",
      "  Inf proof: 7\n",
      "  Zero half: 94\n",
      "  RLT: 24\n",
      "  Relax-and-lift: 82\n",
      "  BQP: 2\n",
      "\n",
      "Explored 197294 nodes (5735964 simplex iterations) in 89.79 seconds (58.74 work units)\n",
      "Thread count was 20 (of 20 available processors)\n",
      "\n",
      "Solution count 10: 96 96 99.3 ... 131\n",
      "\n",
      "Optimal solution found (tolerance 1.00e-04)\n",
      "Best objective 9.600000000000e+01, best bound 9.600000000000e+01, gap 0.0000%\n"
     ]
    }
   ],
   "execution_count": 17
  },
  {
   "cell_type": "code",
   "id": "d23f9c799d06a7d2",
   "metadata": {
    "ExecuteTime": {
     "end_time": "2025-01-12T14:13:31.654822Z",
     "start_time": "2025-01-12T14:13:31.501367Z"
    }
   },
   "source": [
    "plot_result(n,m,w,t,x,R,CT)"
   ],
   "outputs": [
    {
     "data": {
      "text/plain": [
       "<Figure size 1000x300 with 1 Axes>"
      ],
      "image/png": "[encoded data removed]"
     },
     "metadata": {},
     "output_type": "display_data"
    }
   ],
   "execution_count": 18
  },
  {
   "cell_type": "markdown",
   "id": "36a945f26db551c2",
   "metadata": {},
   "source": [
    "### Maximize the Disassembly Profit\n",
    "\n",
    "Now, consider $f_3$, which represents the disassembly profit. Naturally, we want to maximize this, so we include a \"-\" before it to convert it into a minimization problem.\n",
    "\n",
    "The original objective function is not linear because it contains products of variables. However, it can be linearized by introducing auxiliary variables to represent the product of binary variables. The general rule is as follows:\n",
    "\n",
    "To model the product of two binary variables $x \\cdot y$, we introduce an auxiliary binary variable $z = x \\cdot y$ and enforce the relationship using the following constraints:\n",
    "\n",
    "- $z \\leq x$ \n",
    "- $z \\leq y$ \n",
    "- $z \\geq x + y - 1$\n",
    "\n",
    "These constraints ensure that $z$ correctly represents the logical AND ($x \\cdot y$) of the binary variables $x$ and $y$.\n",
    "\n",
    "If the product involves more than two binary variables, we can add auxiliary variables recursively to represent the nested products.\n"
   ]
  },
  {
   "cell_type": "code",
   "id": "4f3c57f1924a33b9",
   "metadata": {
    "ExecuteTime": {
     "end_time": "2025-01-12T14:13:44.831426Z",
     "start_time": "2025-01-12T14:13:31.655943Z"
    }
   },
   "source": [
    "# First, set the auxiliary vars, and add the constraints accordingly\n",
    "y = {}\n",
    "for i in range(n):\n",
    "    for k in range(m):\n",
    "        for l in range(2):\n",
    "            y[i,k,l] = model.addVar(vtype=GRB.BINARY, name=f\"y_{i}_{k}_{l}\")\n",
    "for i in range(n):\n",
    "    for k in range(m):\n",
    "        for l in range(2):\n",
    "            model.addConstr(y[i,k,l] <= x[i,k,l],    name=f\"y_le_x_{i}_{k}_{l}\")\n",
    "            model.addConstr(y[i,k,l] <= R[i,0],      name=f\"y_le_R_{i}_{k}_{l}\")\n",
    "            model.addConstr(y[i,k,l] >= x[i,k,l] + R[i,0] - 1,\n",
    "                            name=f\"y_ge_xR_{i}_{k}_{l}\")\n",
    "\n",
    "\n",
    "# Define f3 step by step\n",
    "term1 = quicksum( # This term is the sum of income of tasks\n",
    "    G1[i] * x[i,k,l]\n",
    "    + (G0[i] - G1[i]) * y[i,k,l]\n",
    "    for i in range(n) for k in range(m) for l in range(2)\n",
    ")\n",
    "\n",
    "\n",
    "\n",
    "term2 = quicksum(# This term is the sum of energy cost\n",
    "    (\n",
    "            (E1[i,2]*t1[i]) * x[i,k,l]         # A[i] * x\n",
    "            + (E0[i,2]*t0[i] - E1[i,2]*t1[i]) * y[i,k,l]\n",
    "    )\n",
    "    for i in range(n) for k in range(m) for l in range(2)\n",
    ")\n",
    "\n",
    "\n",
    "\n",
    "term3 = quicksum(# This term is the fixed sum for each operation workstation\n",
    "    S[k]*CT * (\n",
    "            E1[i,2] + (E0[i,2] - E1[i,2]) * R[i,0]\n",
    "    )\n",
    "    for i in range(n) for k in range(m)\n",
    ")\n",
    "\n",
    "\n",
    "\n",
    "term4 = quicksum(# This term is the extra cost if a task is hazardous\n",
    "    h[i] * (\n",
    "            (E1[i,2]*t1[i]) * x[i,k,l]  # A[i]* x\n",
    "            + (E0[i,2]*t0[i] - E1[i,2]*t1[i]) * y[i,k,l]\n",
    "    )\n",
    "    for i in range(n) for k in range(m) for l in range(2)\n",
    ")\n",
    "\n",
    "# Combine all terms into f3\n",
    "f3 = term1 - term2 - term3 - term4\n",
    "\n",
    "# Set the objective\n",
    "f3 = -f3\n",
    "model.setObjective(f3, GRB.MINIMIZE)\n",
    "\n",
    "# Optimize the model\n",
    "model.optimize()"
   ],
   "outputs": [
    {
     "name": "stdout",
     "output_type": "stream",
     "text": [
      "Gurobi Optimizer version 12.0.0 build v12.0.0rc1 (win64 - Windows 11.0 (22631.2))\n",
      "\n",
      "CPU model: 12th Gen Intel(R) Core(TM) i7-12700H, instruction set [SSE2|AVX|AVX2]\n",
      "Thread count: 14 physical cores, 20 logical processors, using up to 20 threads\n",
      "\n",
      "Academic license 2508371 - for non-commercial use only - registered to yu___@bse.eu\n",
      "Optimize a model with 24905 rows, 13140 columns and 110483 nonzeros\n",
      "Model fingerprint: 0xd9482df1\n",
      "Model has 306 quadratic objective terms\n",
      "Variable types: 126 continuous, 13014 integer (13014 binary)\n",
      "Coefficient statistics:\n",
      "  Matrix range     [6e-03, 2e+03]\n",
      "  Objective range  [7e+01, 6e+04]\n",
      "  QObjective range [2e+02, 4e+03]\n",
      "  Bounds range     [1e+00, 1e+00]\n",
      "  RHS range        [7e-01, 2e+03]\n",
      "\n",
      "MIP start from previous solve produced solution with objective 267201 (0.02s)\n",
      "Loaded MIP start from previous solve with objective 267201\n",
      "\n",
      "Presolve removed 15771 rows and 8630 columns\n",
      "Presolve time: 1.68s\n",
      "Presolved: 9179 rows, 4555 columns, 37717 nonzeros\n",
      "Found heuristic solution: objective 238791.00000\n",
      "Variable types: 35 continuous, 4520 integer (4520 binary)\n",
      "\n",
      "Root relaxation: objective 1.816501e+05, 1154 iterations, 0.06 seconds (0.06 work units)\n",
      "\n",
      "    Nodes    |    Current Node    |     Objective Bounds      |     Work\n",
      " Expl Unexpl |  Obj  Depth IntInf | Incumbent    BestBd   Gap | It/Node Time\n",
      "\n",
      "     0     0 181650.100    0   87 238791.000 181650.100  23.9%     -    1s\n",
      "     0     0 181650.100    0   86 238791.000 181650.100  23.9%     -    1s\n",
      "H    0     0                    237228.90000 181650.100  23.4%     -    1s\n",
      "     0     0 181650.100    0   86 237228.900 181650.100  23.4%     -    2s\n",
      "     0     0 181695.100    0   63 237228.900 181695.100  23.4%     -    2s\n",
      "     0     0 181968.900    0   68 237228.900 181968.900  23.3%     -    2s\n",
      "     0     0 181968.900    0   54 237228.900 181968.900  23.3%     -    2s\n",
      "     0     0 181968.900    0   40 237228.900 181968.900  23.3%     -    2s\n",
      "     0     0 181968.900    0    6 237228.900 181968.900  23.3%     -    2s\n",
      "     0     0 181968.900    0    4 237228.900 181968.900  23.3%     -    2s\n",
      "     0     0 181968.900    0    6 237228.900 181968.900  23.3%     -    2s\n",
      "     0     0 181968.900    0    8 237228.900 181968.900  23.3%     -    2s\n",
      "     0     0 181968.900    0   10 237228.900 181968.900  23.3%     -    2s\n",
      "     0     0 181968.900    0   22 237228.900 181968.900  23.3%     -    2s\n",
      "     0     0 181968.900    0    4 237228.900 181968.900  23.3%     -    2s\n",
      "     0     0 181968.900    0    4 237228.900 181968.900  23.3%     -    2s\n",
      "     0     2 181968.900    0    4 237228.900 181968.900  23.3%     -    2s\n",
      "  4888   693 182136.291   31   24 237228.900 181968.900  23.3%  31.0    5s\n",
      " 12514   925 237048.900   24   68 237228.900 181968.900  23.3%  32.9   10s\n",
      "\n",
      "Cutting planes:\n",
      "  Gomory: 6\n",
      "  Cover: 54\n",
      "  Implied bound: 18\n",
      "  Projected implied bound: 9\n",
      "  Clique: 8\n",
      "  MIR: 5\n",
      "  Mixing: 1\n",
      "  Flow cover: 26\n",
      "  GUB cover: 4\n",
      "  Zero half: 19\n",
      "  RLT: 1\n",
      "  Relax-and-lift: 76\n",
      "\n",
      "Explored 14646 nodes (592226 simplex iterations) in 13.08 seconds (10.30 work units)\n",
      "Thread count was 20 (of 20 available processors)\n",
      "\n",
      "Solution count 3: 237229 238791 267201 \n",
      "\n",
      "Optimal solution found (tolerance 1.00e-04)\n",
      "Best objective 2.372289000000e+05, best bound 2.372289000000e+05, gap 0.0000%\n"
     ]
    }
   ],
   "execution_count": 19
  },
  {
   "cell_type": "code",
   "id": "30dc1e7663c326e2",
   "metadata": {
    "ExecuteTime": {
     "end_time": "2025-01-12T14:13:44.938243Z",
     "start_time": "2025-01-12T14:13:44.832438Z"
    }
   },
   "source": [
    "plot_result(n,m,w,t,x,R,CT)"
   ],
   "outputs": [
    {
     "data": {
      "text/plain": [
       "<Figure size 1000x300 with 1 Axes>"
      ],
      "image/png": "[encoded data removed]"
     },
     "metadata": {},
     "output_type": "display_data"
    }
   ],
   "execution_count": 20
  },
  {
   "cell_type": "markdown",
   "id": "a6fa8eaf1eb808ea",
   "metadata": {},
   "source": [
    "### Minimize Disassembly Energy Consumption\n",
    "\n",
    "Finally, $f_4$ represents the disassembly energy consumption, which we aim to minimize.\n"
   ]
  },
  {
   "cell_type": "code",
   "id": "568e5fd7209e9294",
   "metadata": {
    "ExecuteTime": {
     "end_time": "2025-01-12T14:13:46.915372Z",
     "start_time": "2025-01-12T14:13:44.939288Z"
    }
   },
   "source": [
    "\n",
    "term1 = quicksum( # Energy cost of doing the tasks\n",
    "    # Affine terms in x[i,k,l]\n",
    "    x[i,k,l] * (\n",
    "            t1[i] * (P1[i] + p_h * h[i])  # t1[i] * P_full when R[i,0]=0\n",
    "            + (t0[i] - t1[i]) * (P1[i] + p_h * h[i])  # When R[i,0]=1\n",
    "    )\n",
    "    + y[i,k,l] * (\n",
    "            (t0[i] - t1[i]) * (P0[i] - P1[i])  # Interaction of R[i,0]\n",
    "    )\n",
    "    for i in range(n) for k in range(m) for l in range(2)\n",
    ")\n",
    "\n",
    "term2 = quicksum( # Fixed energy cost of openning stations\n",
    "    p_f * S[k] * CT\n",
    "    for k in range(m)\n",
    ")\n",
    "\n",
    "f4 = term1 + term2\n",
    "\n",
    "model.setObjective(f4, GRB.MINIMIZE)\n",
    "\n",
    "# Optimize the model\n",
    "model.optimize()"
   ],
   "outputs": [
    {
     "name": "stdout",
     "output_type": "stream",
     "text": [
      "Gurobi Optimizer version 12.0.0 build v12.0.0rc1 (win64 - Windows 11.0 (22631.2))\n",
      "\n",
      "CPU model: 12th Gen Intel(R) Core(TM) i7-12700H, instruction set [SSE2|AVX|AVX2]\n",
      "Thread count: 14 physical cores, 20 logical processors, using up to 20 threads\n",
      "\n",
      "Academic license 2508371 - for non-commercial use only - registered to yu___@bse.eu\n",
      "Optimize a model with 24905 rows, 13140 columns and 110483 nonzeros\n",
      "Model fingerprint: 0xeba2d51c\n",
      "Variable types: 126 continuous, 13014 integer (13014 binary)\n",
      "Coefficient statistics:\n",
      "  Matrix range     [6e-03, 2e+03]\n",
      "  Objective range  [2e-01, 2e+03]\n",
      "  Bounds range     [1e+00, 1e+00]\n",
      "  RHS range        [7e-01, 2e+03]\n",
      "\n",
      "MIP start from previous solve produced solution with objective 23259.1 (0.02s)\n",
      "Loaded MIP start from previous solve with objective 23259.1\n",
      "\n",
      "Presolve removed 22308 rows and 11861 columns\n",
      "Presolve time: 1.14s\n",
      "Presolved: 2597 rows, 1279 columns, 10624 nonzeros\n",
      "Variable types: 23 continuous, 1256 integer (1256 binary)\n",
      "\n",
      "Root relaxation: objective 2.210436e+04, 324 iterations, 0.01 seconds (0.01 work units)\n",
      "\n",
      "    Nodes    |    Current Node    |     Objective Bounds      |     Work\n",
      " Expl Unexpl |  Obj  Depth IntInf | Incumbent    BestBd   Gap | It/Node Time\n",
      "\n",
      "     0     0 22104.3600    0   34 23259.1200 22104.3600  4.96%     -    1s\n",
      "H    0     0                    22824.360000 22104.3600  3.15%     -    1s\n",
      "     0     0 22104.3600    0   28 22824.3600 22104.3600  3.15%     -    1s\n",
      "     0     0 22104.3600    0   38 22824.3600 22104.3600  3.15%     -    1s\n",
      "     0     0 22129.8000    0   68 22824.3600 22129.8000  3.04%     -    1s\n",
      "     0     0 22179.1688    0   46 22824.3600 22179.1688  2.83%     -    1s\n",
      "     0     0 22218.1200    0   44 22824.3600 22218.1200  2.66%     -    1s\n",
      "     0     0 22218.1200    0   35 22824.3600 22218.1200  2.66%     -    1s\n",
      "     0     0 22218.1200    0   34 22824.3600 22218.1200  2.66%     -    1s\n",
      "     0     0 22218.1200    0   24 22824.3600 22218.1200  2.66%     -    1s\n",
      "     0     0 22218.1200    0    8 22824.3600 22218.1200  2.66%     -    1s\n",
      "     0     0 22218.1200    0   18 22824.3600 22218.1200  2.66%     -    1s\n",
      "     0     0 22218.1200    0   18 22824.3600 22218.1200  2.66%     -    1s\n",
      "     0     0 22218.1200    0   37 22824.3600 22218.1200  2.66%     -    1s\n",
      "     0     0 22218.1200    0   35 22824.3600 22218.1200  2.66%     -    1s\n",
      "     0     0 22218.1200    0    8 22824.3600 22218.1200  2.66%     -    1s\n",
      "     0     0 22218.1200    0    8 22824.3600 22218.1200  2.66%     -    1s\n",
      "     0     2 22218.1200    0    8 22824.3600 22218.1200  2.66%     -    1s\n",
      "\n",
      "Cutting planes:\n",
      "  Learned: 4\n",
      "  Gomory: 5\n",
      "  Cover: 482\n",
      "  Implied bound: 238\n",
      "  Clique: 10\n",
      "  MIR: 96\n",
      "  StrongCG: 3\n",
      "  GUB cover: 10\n",
      "  Inf proof: 8\n",
      "  Zero half: 6\n",
      "  RLT: 13\n",
      "  Relax-and-lift: 51\n",
      "\n",
      "Explored 2804 nodes (51089 simplex iterations) in 1.95 seconds (1.66 work units)\n",
      "Thread count was 20 (of 20 available processors)\n",
      "\n",
      "Solution count 2: 22824.4 23259.1 \n",
      "\n",
      "Optimal solution found (tolerance 1.00e-04)\n",
      "Best objective 2.282436000000e+04, best bound 2.282436000000e+04, gap 0.0000%\n"
     ]
    }
   ],
   "execution_count": 21
  },
  {
   "cell_type": "code",
   "id": "3f68fdcc56dc338f",
   "metadata": {
    "ExecuteTime": {
     "end_time": "2025-01-12T14:13:47.014590Z",
     "start_time": "2025-01-12T14:13:46.916378Z"
    }
   },
   "source": [
    "plot_result(n,m,w,t,x,R,CT)"
   ],
   "outputs": [
    {
     "data": {
      "text/plain": [
       "<Figure size 1000x300 with 1 Axes>"
      ],
      "image/png": "[encoded data removed]"
     },
     "metadata": {},
     "output_type": "display_data"
    }
   ],
   "execution_count": 22
  }
 ],
 "metadata": {
  "kernelspec": {
   "display_name": "Python 3",
   "language": "python",
   "name": "python3"
  },
  "language_info": {
   "codemirror_mode": {
    "name": "ipython",
    "version": 3
   },
   "file_extension": ".py",
   "mimetype": "text/x-python",
   "name": "python",
   "nbconvert_exporter": "python",
   "pygments_lexer": "ipython3",
   "version": "3.12.4"
  }
 },
 "nbformat": 4,
 "nbformat_minor": 5
}
